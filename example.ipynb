{
 "cells": [
  {
   "cell_type": "code",
   "execution_count": 4,
   "metadata": {},
   "outputs": [
    {
     "name": "stdout",
     "output_type": "stream",
     "text": [
      "[Document(page_content=\"with Eujin Lee Read more 4.6.2023 | Career 5 Tips to Prepare for Your CDW Interview Read more 3.28.2023 | Career How it Started... How it's Going, with Julius Azarcon Read more 3.23.2023 | Career How to Nail Your Next Video Interview Read more 3.21.2023 | Career How to Navigate Career Transitions as an African American Woman in Tech Read more 3.16.2023 | Career How to Stand Out in Behavioral-Based Job Interviews Read more 3.7.2023 | Dei Embracing Equity at CDW Read more 3.1.2023 | Lifeatcdw Empowering Female Talent at CDW Read more 2.23.2023 | Career A Day in the Life with Seli Cerda Read more 2.20.2023 | Career Celebrating National Engineers Week 2023 Read more 2.16.2023 | Career Career Journey with Candace Farmer Read more See what our coworkers are saying about #LifeAtCDW with @CDWCareers. Follow us Learn about #LifeAtCDW, career opportunities and more Explore possibilities at CDW CDW Teams Sales Technology & Engineering Corporate Students Who We Are About Us Locations Contact Us\", metadata={'source': 'https://www.cdwjobs.com//', 'title': 'CDW - Careers', 'description': 'Search 201 Careers available. CDW Careers', 'language': 'en'}), Document(page_content=\"the communities where we live and work. See How We Help Others CDW Newsroom Read CDW's latest company announcements and technology reports, and learn how to reach our media relations team. Visit Our Newsroom Careers at CDW Life at CDW is special. From the people to the culture and leadership team, CDW is dedicated to creating an inclusive and supportive environment where coworkers can thrive. Come join us. Find a Job at CDW Investor Relations Read CDW's latest financial announcements, filings and releases, and learn how to reach our investor relations team. Visit Our Investor Site Additional Resources CDW Ethics Policy View the CDW Way Code View the CDW Way Code (Spanish) ISO Certifications ISO 9001 certificate ISO 14001 certificate ISO/IEC 20243 certificate ISO 27001 certificate ISO 28000 certificate Site Map Privacy Notice Do Not Sell or Share My Personal Information Cookie Notice Terms and Conditions Copyright © 2007 - 2023 CDW. All Rights Reserved. CDW®, CDW•G® and PEOPLE WHO GET\", metadata={'source': 'https://www.cdw.com/content/cdw/en/about/overview.html', 'title': 'Business IT Solutions & Services Company | CDW', 'description': 'Discover what makes us a leading international IT solutions and services provider and learn about our technology and community partners.', 'language': 'en'}), Document(page_content='an internship or entry-level role, your journey with CDW starts here. CDW is a place where you can ask questions, continue to learn, and progress your career. View opportunities Explore All Jobs Benefits Diversity, Equity & Inclusion Culture Community Military & Veterans Blog BENEFITS Benefits Diversity, Equity & Inclusion Culture Community Military & Veterans Blog The whole packageAt CDW, we believe in the importance of feeling like our best selves inside and outside of work. The health and wellness of our coworkers is critical to how we show up for one another, for our customers, in our work, and for our loved ones. We offer medical, dental, and so much more to help our coworkers thrive in all aspects of their lives.Health & WellnessWe offer great healthcare benefits, including telemedicine and optional HSA and FSA accounts. Coworkers also have access to a variety of wellness programs for both body and mind.Learning & DevelopmentWe actively support ongoing education and skills', metadata={'source': 'https://www.cdwjobs.com//', 'title': 'CDW - Careers', 'description': 'Search 201 Careers available. CDW Careers', 'language': 'en'}), Document(page_content='Contact Us Join our Talent Network Join the CDW Community Life At CDW Blog Diversity, Equity & Inclusion Military & Veterans Blog Diversity, Equity & Inclusion Military & Veterans EEO & Accessibility CDW is an equal opportunity employer committed to a diverse and inclusive workplace. View our EEO Statement, Posters and Notices. If you are an individual that needs assistance in applying for a position, please start here. View our Privacy Policy, Sitemap. Copyright © 2007 - 2023 CDW. All Rights Reserved', metadata={'source': 'https://www.cdwjobs.com//', 'title': 'CDW - Careers', 'description': 'Search 201 Careers available. CDW Careers', 'language': 'en'})]\n"
     ]
    }
   ],
   "source": [
    "from google_gen_ai_search import EnterpriseSearchRetriever\n",
    "\n",
    "project_id = \"YOUR_PROJECT_NUMBER\" # Use your project number here\n",
    "search_engine_id = \"YOUR_SEARCH_ENGINE_ID\" # Use your search engine id here\n",
    "\n",
    "retreiver = EnterpriseSearchRetriever(project_id=project_id, search_engine_id=search_engine_id)\n",
    "docs = retreiver.get_relevant_documents(\"What does cdw do\")\n",
    "\n",
    "print(docs)"
   ]
  }
 ],
 "metadata": {
  "kernelspec": {
   "display_name": ".venv",
   "language": "python",
   "name": "python3"
  },
  "language_info": {
   "codemirror_mode": {
    "name": "ipython",
    "version": 3
   },
   "file_extension": ".py",
   "mimetype": "text/x-python",
   "name": "python",
   "nbconvert_exporter": "python",
   "pygments_lexer": "ipython3",
   "version": "3.10.6"
  },
  "orig_nbformat": 4
 },
 "nbformat": 4,
 "nbformat_minor": 2
}
